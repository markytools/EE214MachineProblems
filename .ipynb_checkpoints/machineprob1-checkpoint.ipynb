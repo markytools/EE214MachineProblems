{
 "cells": [
  {
   "cell_type": "code",
   "execution_count": 1,
   "metadata": {},
   "outputs": [],
   "source": [
    "### Machine problem 1\n",
    "%matplotlib inline\n",
    "import numpy as np\n",
    "import matplotlib.pyplot as plt"
   ]
  },
  {
   "cell_type": "code",
   "execution_count": 11,
   "metadata": {},
   "outputs": [
    {
     "name": "stdout",
     "output_type": "stream",
     "text": [
      "N1:0.00 + N2:0.00 + N3:0.00 = Sum:0.00\n",
      "N1:3.00 + N2:1.00 + N3:3.00 = Sum:7.00\n",
      "N1:11.00 + N2:16.00 + N3:17.00 = Sum:44.00\n",
      "N1:21.00 + N2:27.00 + N3:34.00 = Sum:82.00\n",
      "N1:50.00 + N2:55.00 + N3:53.00 = Sum:158.00\n",
      "N1:69.00 + N2:96.00 + N3:67.00 = Sum:232.00\n",
      "N1:79.00 + N2:74.00 + N3:71.00 = Sum:224.00\n",
      "N1:64.00 + N2:44.00 + N3:34.00 = Sum:142.00\n",
      "N1:35.00 + N2:21.00 + N3:18.00 = Sum:74.00\n",
      "N1:7.00 + N2:0.00 + N3:0.00 = Sum:7.00\n",
      "N1:6.00 + N2:1.00 + N3:0.00 = Sum:7.00\n",
      "N1:1.00 + N2:0.00 + N3:0.00 = Sum:1.00\n"
     ]
    }
   ],
   "source": [
    "### 1.)\n",
    "### a.)\n",
    "\n",
    "# Returns the value of N(S=heads)\n",
    "def getN1000Sn(nHeads):\n",
    "    # Simulate 1000 repetitions of tossing coins 100 times\n",
    "    h = np.random.randint(2, size=(1000, 100))\n",
    "    rowSum = np.sum(h, axis=1)\n",
    "    return len(rowSum[rowSum == nHeads])\n",
    "\n",
    "headTrialArr = np.zeros((12, 3)).astype(float)\n",
    "numTrials = np.zeros(12)\n",
    "g1N = 33\n",
    "### Create three groups\n",
    "for i in range(0, 12):\n",
    "    headTrialArr[i, 0] = getN1000Sn(g1N) # First group\n",
    "    headTrialArr[i, 1] = getN1000Sn(g1N+1) # Second group\n",
    "    headTrialArr[i, 2] = getN1000Sn(g1N+2) # Third group\n",
    "    numTrials[i] = g1N+1\n",
    "    headSum = np.sum(headTrialArr, axis=1)\n",
    "    print(\"N1:{0:.2f} + N2:{1:.2f} + N3:{2:.2f} = Sum:{3:.2f}\"\n",
    "          .format(headTrialArr[i, 0],\n",
    "                  headTrialArr[i, 1],\n",
    "                  headTrialArr[i, 2],\n",
    "                  headTrialArr[i].sum()))\n",
    "    g1N += 3"
   ]
  },
  {
   "cell_type": "code",
   "execution_count": 14,
   "metadata": {},
   "outputs": [
    {
     "data": {
      "text/plain": [
       "array([ 0.        ,  2.33333333, 14.66666667, 27.33333333, 52.66666667,\n",
       "       77.33333333, 74.66666667, 47.33333333, 24.66666667,  2.33333333,\n",
       "        2.33333333,  0.33333333])"
      ]
     },
     "execution_count": 14,
     "metadata": {},
     "output_type": "execute_result"
    }
   ],
   "source": [
    "aveHeadsPerGroup = np.average(headTrialArr, axis=1)"
   ]
  },
  {
   "cell_type": "code",
   "execution_count": 15,
   "metadata": {},
   "outputs": [
    {
     "data": {
      "image/png": "[encoded data removed]",
      "text/plain": [
       "<Figure size 432x288 with 1 Axes>"
      ]
     },
     "metadata": {
      "needs_background": "light"
     },
     "output_type": "display_data"
    }
   ],
   "source": [
    "### b.) Plot\n",
    "plt.bar(numTrials, aveHeadsPerGroup)\n",
    "plt.xlabel('Number of Trials')\n",
    "plt.ylabel('k')\n",
    "plt.title('Heads per Group VS Number of Trials')\n",
    "plt.show()"
   ]
  },
  {
   "cell_type": "code",
   "execution_count": null,
   "metadata": {},
   "outputs": [],
   "source": []
  }
 ],
 "metadata": {
  "kernelspec": {
   "display_name": "Python 3",
   "language": "python",
   "name": "python3"
  },
  "language_info": {
   "codemirror_mode": {
    "name": "ipython",
    "version": 3
   },
   "file_extension": ".py",
   "mimetype": "text/x-python",
   "name": "python",
   "nbconvert_exporter": "python",
   "pygments_lexer": "ipython3",
   "version": "3.6.9"
  }
 },
 "nbformat": 4,
 "nbformat_minor": 2
}
