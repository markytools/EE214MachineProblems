{
 "cells": [
  {
   "cell_type": "code",
   "execution_count": 16,
   "metadata": {},
   "outputs": [],
   "source": [
    "### Machine problem 1\n",
    "%matplotlib inline\n",
    "import numpy as np\n",
    "import matplotlib.pyplot as plt"
   ]
  },
  {
   "cell_type": "code",
   "execution_count": 17,
   "metadata": {},
   "outputs": [
    {
     "name": "stdout",
     "output_type": "stream",
     "text": [
      "N1:0.00 + N2:1.00 + N3:2.00 = Sum:3.00\n",
      "N1:3.00 + N2:4.00 + N3:6.00 = Sum:13.00\n",
      "N1:5.00 + N2:12.00 + N3:21.00 = Sum:38.00\n",
      "N1:22.00 + N2:27.00 + N3:35.00 = Sum:84.00\n",
      "N1:41.00 + N2:62.00 + N3:66.00 = Sum:169.00\n",
      "N1:75.00 + N2:71.00 + N3:76.00 = Sum:222.00\n",
      "N1:81.00 + N2:76.00 + N3:87.00 = Sum:244.00\n",
      "N1:60.00 + N2:46.00 + N3:30.00 = Sum:136.00\n",
      "N1:23.00 + N2:14.00 + N3:8.00 = Sum:45.00\n",
      "N1:6.00 + N2:5.00 + N3:1.00 = Sum:12.00\n",
      "N1:3.00 + N2:1.00 + N3:1.00 = Sum:5.00\n",
      "N1:1.00 + N2:0.00 + N3:0.00 = Sum:1.00\n"
     ]
    }
   ],
   "source": [
    "### 1.)\n",
    "### a.)\n",
    "\n",
    "# Returns the value of N(S=heads)\n",
    "def getN1000Sn(nHeads):\n",
    "    # Simulate 1000 repetitions of tossing coins 100 times\n",
    "    h = np.random.randint(2, size=(1000, 100))\n",
    "    rowSum = np.sum(h, axis=1)\n",
    "    return len(rowSum[rowSum == nHeads])\n",
    "\n",
    "headTrialArr = np.zeros((12, 3)).astype(float)\n",
    "numTrials = np.zeros(12)\n",
    "g1N = 33\n",
    "### Create three groups\n",
    "for i in range(0, 12):\n",
    "    headTrialArr[i, 0] = getN1000Sn(g1N) # First group\n",
    "    headTrialArr[i, 1] = getN1000Sn(g1N+1) # Second group\n",
    "    headTrialArr[i, 2] = getN1000Sn(g1N+2) # Third group\n",
    "    numTrials[i] = g1N+1\n",
    "    headSum = np.sum(headTrialArr, axis=1)\n",
    "    print(\"N1:{0:.2f} + N2:{1:.2f} + N3:{2:.2f} = Sum:{3:.2f}\"\n",
    "          .format(headTrialArr[i, 0],\n",
    "                  headTrialArr[i, 1],\n",
    "                  headTrialArr[i, 2],\n",
    "                  headTrialArr[i].sum()))\n",
    "    g1N += 3"
   ]
  },
  {
   "cell_type": "code",
   "execution_count": 18,
   "metadata": {},
   "outputs": [
    {
     "data": {
      "image/png": "[encoded data removed]",
      "text/plain": [
       "<Figure size 432x288 with 1 Axes>"
      ]
     },
     "metadata": {
      "needs_background": "light"
     },
     "output_type": "display_data"
    }
   ],
   "source": [
    "### b.) Plot\n",
    "plt.bar(numTrials, aveHeadsPerGroup)\n",
    "plt.xlabel('Number of Trials')\n",
    "plt.ylabel('Average Heads')\n",
    "plt.title('Heads per Group VS Number of Trials')\n",
    "plt.show()"
   ]
  },
  {
   "cell_type": "code",
   "execution_count": 19,
   "metadata": {},
   "outputs": [],
   "source": [
    "### The graph resembles a bell curve as most of the outcomes of the experiment has an outcome of approx. 50 heads"
   ]
  },
  {
   "cell_type": "code",
   "execution_count": 21,
   "metadata": {},
   "outputs": [
    {
     "name": "stdout",
     "output_type": "stream",
     "text": [
      "Probability of getting 0 heads: 0.00\n",
      "Probability of getting 2 heads: 0.01\n",
      "Probability of getting 14 heads: 0.04\n",
      "Probability of getting 27 heads: 0.08\n",
      "Probability of getting 52 heads: 0.16\n",
      "Probability of getting 77 heads: 0.24\n",
      "Probability of getting 74 heads: 0.23\n",
      "Probability of getting 47 heads: 0.15\n",
      "Probability of getting 24 heads: 0.08\n",
      "Probability of getting 2 heads: 0.01\n",
      "Probability of getting 2 heads: 0.01\n",
      "Probability of getting 0 heads: 0.00\n"
     ]
    }
   ],
   "source": [
    "### c.)\n",
    "### Compute probability\n",
    "prob_aveHeadsPerGroup = aveHeadsPerGroup / np.sum(aveHeadsPerGroup)\n",
    "expectedVal = np.mean(aveHeadsPerGroup)\n",
    "std = np.std(aveHeadsPerGroup)\n",
    "for i in range(0, len(aveHeadsPerGroup)):\n",
    "    print(\"Probability of getting {0:d} heads: {1:.2f}\".format(int(aveHeadsPerGroup[i]), prob_aveHeadsPerGroup[i]))\n",
    "print(\"ExpectedVal: {0:.2f}\")"
   ]
  },
  {
   "cell_type": "code",
   "execution_count": null,
   "metadata": {},
   "outputs": [],
   "source": []
  }
 ],
 "metadata": {
  "kernelspec": {
   "display_name": "Python 3",
   "language": "python",
   "name": "python3"
  },
  "language_info": {
   "codemirror_mode": {
    "name": "ipython",
    "version": 3
   },
   "file_extension": ".py",
   "mimetype": "text/x-python",
   "name": "python",
   "nbconvert_exporter": "python",
   "pygments_lexer": "ipython3",
   "version": "3.6.9"
  }
 },
 "nbformat": 4,
 "nbformat_minor": 2
}
